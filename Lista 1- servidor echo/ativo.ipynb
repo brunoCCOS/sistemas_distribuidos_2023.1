{
 "cells": [
  {
   "cell_type": "code",
   "execution_count": 6,
   "id": "896d8554-fe5a-422d-93df-31af0f8c4922",
   "metadata": {},
   "outputs": [
    {
     "name": "stdin",
     "output_type": "stream",
     "text": [
      "chat: Teste\n"
     ]
    },
    {
     "name": "stdout",
     "output_type": "stream",
     "text": [
      "Mensagem recebida:Teste\n"
     ]
    },
    {
     "name": "stdin",
     "output_type": "stream",
     "text": [
      "chat: Alou\n"
     ]
    },
    {
     "name": "stdout",
     "output_type": "stream",
     "text": [
      "Mensagem recebida:Alou\n"
     ]
    },
    {
     "name": "stdin",
     "output_type": "stream",
     "text": [
      "chat: fim\n"
     ]
    }
   ],
   "source": [
    "# Exemplo basico socket (lado ativo)\n",
    "\n",
    "import socket\n",
    "\n",
    "HOST = '10.10.14.205' # maquina onde esta o par passivo\n",
    "PORTA = 5001       # porta que o par passivo esta escutando\n",
    "\n",
    "# cria socket\n",
    "sock = socket.socket() # default: socket.AF_INET, socket.SOCK_STREAM \n",
    "\n",
    "# conecta-se com o par passivo\n",
    "sock.connect((HOST, PORTA)) \n",
    "\n",
    "while True:\n",
    "    msg = input(str(\"chat:\"))\n",
    "    #Mensagem de finalização\n",
    "    if msg == 'fim':\n",
    "        break\n",
    "    # envia uma mensagem para o par conectado\n",
    "    sock.send(bytes(msg, encoding='utf-8'))\n",
    "    #espera a resposta do par conectado (chamada pode ser BLOQUEANTE)\n",
    "    response = sock.recv(1024) # argumento indica a qtde maxima de bytes da mensagem\n",
    "\n",
    "\n",
    "    # imprime a mensagem recebida\n",
    "    print(str(response,  encoding='utf-8'))\n",
    "\n",
    "\n",
    "# encerra a conexao\n",
    "sock.close()\n",
    "\n"
   ]
  },
  {
   "cell_type": "code",
   "execution_count": null,
   "id": "175795d5-d433-4238-bc79-4db35d129434",
   "metadata": {},
   "outputs": [],
   "source": []
  }
 ],
 "metadata": {
  "kernelspec": {
   "display_name": "Python 3 (ipykernel)",
   "language": "python",
   "name": "python3"
  },
  "language_info": {
   "codemirror_mode": {
    "name": "ipython",
    "version": 3
   },
   "file_extension": ".py",
   "mimetype": "text/x-python",
   "name": "python",
   "nbconvert_exporter": "python",
   "pygments_lexer": "ipython3",
   "version": "3.9.7"
  }
 },
 "nbformat": 4,
 "nbformat_minor": 5
}
