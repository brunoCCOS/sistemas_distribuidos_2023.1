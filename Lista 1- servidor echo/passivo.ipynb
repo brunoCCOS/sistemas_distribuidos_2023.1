{
 "cells": [
  {
   "cell_type": "code",
   "execution_count": 2,
   "id": "a63741f1-8dd4-4fa1-9920-c30d80492535",
   "metadata": {},
   "outputs": [
    {
     "name": "stdout",
     "output_type": "stream",
     "text": [
      "Pronto para receber conexões...\n",
      "Conectado com:  ('127.0.0.1', 49248)\n",
      "Teste\n",
      "Alou\n"
     ]
    }
   ],
   "source": [
    "# Exemplo basico socket (lado passivo)\n",
    "\n",
    "import socket\n",
    "\n",
    "HOST = ''     # '' possibilita acessar qualquer endereco alcancavel da maquina local\n",
    "PORTA = 5001  # porta onde chegarao as mensagens para essa aplicacao\n",
    "\n",
    "# cria um socket para comunicacao\n",
    "sock = socket.socket() # valores default: socket.AF_INET, socket.SOCK_STREAM  \n",
    "\n",
    "# vincula a interface e porta para comunicacao\n",
    "sock.bind((HOST, PORTA))\n",
    "\n",
    "# define o limite maximo de conexoes pendentes e coloca-se em modo de espera por conexao\n",
    "sock.listen(5) \n",
    "\n",
    "print(\"Pronto para receber conexões...\")\n",
    "\n",
    "# aceita a primeira conexao da fila (chamada pode ser BLOQUEANTE)\n",
    "novoSock, endereco = sock.accept() # retorna um novo socket e o endereco do par conectado\n",
    "print ('Conectado com: ', endereco)\n",
    "\n",
    "while True:\n",
    "    # depois de conectar-se, espera uma mensagem (chamada pode ser BLOQUEANTE))\n",
    "    msg = novoSock.recv(1024) # argumento indica a qtde maxima de dados\n",
    "    if not msg: break \n",
    "    else: \n",
    "        msg = str(msg, encoding='utf-8') \n",
    "        print(msg)\n",
    "    # envia mensagem de resposta\n",
    "    reply = 'Mensagem recebida:' + msg\n",
    "    novoSock.send(bytes(reply,encoding= 'utf-8')) \n",
    "\n",
    "# fecha o socket da conexao\n",
    "novoSock.close() \n",
    "\n",
    "# fecha o socket principal\n",
    "sock.close() \n"
   ]
  },
  {
   "cell_type": "code",
   "execution_count": null,
   "id": "394b05e1-e26a-41cd-b4fe-db0674e79ed5",
   "metadata": {},
   "outputs": [],
   "source": []
  }
 ],
 "metadata": {
  "kernelspec": {
   "display_name": "Python 3 (ipykernel)",
   "language": "python",
   "name": "python3"
  },
  "language_info": {
   "codemirror_mode": {
    "name": "ipython",
    "version": 3
   },
   "file_extension": ".py",
   "mimetype": "text/x-python",
   "name": "python",
   "nbconvert_exporter": "python",
   "pygments_lexer": "ipython3",
   "version": "3.9.7"
  }
 },
 "nbformat": 4,
 "nbformat_minor": 5
}
