{
 "cells": [
  {
   "cell_type": "code",
   "execution_count": null,
   "id": "896d8554-fe5a-422d-93df-31af0f8c4922",
   "metadata": {},
   "outputs": [
    {
     "name": "stdin",
     "output_type": "stream",
     "text": [
      "chat: fala \n"
     ]
    },
    {
     "name": "stdout",
     "output_type": "stream",
     "text": [
      "fala \n"
     ]
    },
    {
     "name": "stdin",
     "output_type": "stream",
     "text": [
      "chat: teste\n"
     ]
    },
    {
     "name": "stdout",
     "output_type": "stream",
     "text": [
      "teste\n"
     ]
    },
    {
     "name": "stdin",
     "output_type": "stream",
     "text": [
      "chat: \\n\n"
     ]
    },
    {
     "name": "stdout",
     "output_type": "stream",
     "text": [
      "\\n\n"
     ]
    }
   ],
   "source": [
    "# Exemplo basico socket (lado ativo)\n",
    "\n",
    "import socket\n",
    "\n",
    "HOST = '10.10.14.205' # maquina onde esta o par passivo\n",
    "PORTA = 5000       # porta que o par passivo esta escutando\n",
    "\n",
    "# cria socket\n",
    "sock = socket.socket() # default: socket.AF_INET, socket.SOCK_STREAM \n",
    "\n",
    "# conecta-se com o par passivo\n",
    "sock.connect((HOST, PORTA)) \n",
    "\n",
    "while True:\n",
    "    msg = \n",
    "\n",
    "    #Mensagem de finalização\n",
    "    if msg == 'fim':\n",
    "        break\n",
    "    # envia uma mensagem para o par conectado\n",
    "    sock.send(bytes(msg, encoding='utf-8'))\n",
    "    #espera a resposta do par conectado (chamada pode ser BLOQUEANTE)\n",
    "    msg = sock.recv(1024) # argumento indica a qtde maxima de bytes da mensagem\n",
    "\n",
    "\n",
    "    # imprime a mensagem recebida\n",
    "    print(str(msg,  encoding='utf-8'))\n",
    "\n",
    "\n",
    "# encerra a conexao\n",
    "sock.close()\n",
    "\n"
   ]
  },
  {
   "cell_type": "code",
   "execution_count": null,
   "id": "175795d5-d433-4238-bc79-4db35d129434",
   "metadata": {},
   "outputs": [],
   "source": []
  }
 ],
 "metadata": {
  "kernelspec": {
   "display_name": "Python 3 (ipykernel)",
   "language": "python",
   "name": "python3"
  },
  "language_info": {
   "codemirror_mode": {
    "name": "ipython",
    "version": 3
   },
   "file_extension": ".py",
   "mimetype": "text/x-python",
   "name": "python",
   "nbconvert_exporter": "python",
   "pygments_lexer": "ipython3",
   "version": "3.9.7"
  }
 },
 "nbformat": 4,
 "nbformat_minor": 5
}
